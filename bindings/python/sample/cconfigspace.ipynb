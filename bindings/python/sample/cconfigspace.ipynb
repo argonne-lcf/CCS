{
 "cells": [
  {
   "cell_type": "code",
   "execution_count": 1,
   "id": "85f0dfa9-1329-45d7-89be-3975fc11d5c6",
   "metadata": {},
   "outputs": [],
   "source": [
    "import cconfigspace as ccs\n",
    "import matplotlib.pyplot as plt\n",
    "from matplotlib import colors\n",
    "from matplotlib.ticker import PercentFormatter\n",
    "from collections import Counter"
   ]
  },
  {
   "cell_type": "markdown",
   "id": "48f5cff8-a186-40c7-80e4-9661ea9df0dc",
   "metadata": {},
   "source": [
    "## Hyperparamters\n",
    "CCS defines 4 types of hyperparameters NumericalHyperparameter, CategoricalHyperparameter, OrdinalHyperparameter, and DiscreteHyperparameter.\n",
    "All hyper parameters constructors can take a `name` named parameter to define a name for the hyperparameter, or CCS will attribute one automatically. They also take a `default` name argument that must be a valid value for numerical hyperparameters and an index into the list of possible values for collection based hyperparameters, or ccs will use the lower or the first value respectively.\n",
    "### Numerical Hyperparameters\n",
    "This creates a float numerical hyperparameter. By default they are associated a uniform distribution sampled between [lower, upper):"
   ]
  },
  {
   "cell_type": "code",
   "execution_count": 2,
   "id": "af8dcb09-2c23-4b3e-bdf6-0be4b8dce4a9",
   "metadata": {},
   "outputs": [],
   "source": [
    "hflt = ccs.NumericalHyperparameter.float(name = 'hflt', lower = -2.0, upper = 1.5)\n",
    "hflt_uniform_samples = hflt.samples(1000)\n",
    "assert min(hflt_uniform_samples) >= hflt.lower\n",
    "assert max(hflt_uniform_samples) < hflt.upper"
   ]
  },
  {
   "cell_type": "markdown",
   "id": "b2b5cbf1-d306-432b-883e-fc70e85ca23b",
   "metadata": {},
   "source": [
    "To sample using another distribution:"
   ]
  },
  {
   "cell_type": "code",
   "execution_count": 3,
   "id": "91b1bfc6-368d-4afe-9086-9b7648549e99",
   "metadata": {},
   "outputs": [],
   "source": [
    "fnrm_distrib = ccs.NormalDistribution.float(mu = 0.0, sigma = 1.0)\n",
    "hflt_normal_samples = hflt.samples(1000, distribution = fnrm_distrib)\n",
    "assert min(hflt_normal_samples) >= hflt.lower\n",
    "assert max(hflt_normal_samples) < hflt.upper"
   ]
  },
  {
   "cell_type": "code",
   "execution_count": 4,
   "id": "d8f7c05d-5ac2-453a-8747-1a854173ab94",
   "metadata": {},
   "outputs": [
    {
     "data": {
      "image/png": "[encoded data removed]",
      "text/plain": [
       "<Figure size 432x288 with 2 Axes>"
      ]
     },
     "metadata": {
      "needs_background": "light"
     },
     "output_type": "display_data"
    }
   ],
   "source": [
    "n_bins = 20\n",
    "fig1, axs1 = plt.subplots(1, 2, sharey=True, tight_layout=True)\n",
    "axs1[0].hist(hflt_uniform_samples, bins=n_bins);\n",
    "axs1[1].hist(hflt_normal_samples, bins=n_bins);"
   ]
  },
  {
   "cell_type": "markdown",
   "id": "252b74ab-ae85-401f-99d5-c8a5b9eca3e0",
   "metadata": {},
   "source": [
    "The same works for integer hyperparameters:"
   ]
  },
  {
   "cell_type": "code",
   "execution_count": 5,
   "id": "eb7e8a65-e2c5-4101-903c-8ab598f26f66",
   "metadata": {
    "tags": []
   },
   "outputs": [],
   "source": [
    "hint = ccs.NumericalHyperparameter.int(name = 'hint', lower = -7, upper = 13)\n",
    "hint_uniform_samples = hint.samples(1000)\n",
    "assert min(hint_uniform_samples) >= hint.lower\n",
    "assert max(hint_uniform_samples) < hint.upper\n",
    "inrm_distrib = ccs.NormalDistribution.int(mu = 3.0, sigma = 5.0)\n",
    "hint_normal_samples = hint.samples(1000, distribution = inrm_distrib)\n",
    "assert min(hint_normal_samples) >= hint.lower\n",
    "assert max(hint_normal_samples) < hint.upper"
   ]
  },
  {
   "cell_type": "code",
   "execution_count": 6,
   "id": "09c2ebef-0527-4bbb-8616-2129e6f7ad95",
   "metadata": {},
   "outputs": [
    {
     "data": {
      "image/png": "[encoded data removed]",
      "text/plain": [
       "<Figure size 432x288 with 2 Axes>"
      ]
     },
     "metadata": {
      "needs_background": "light"
     },
     "output_type": "display_data"
    }
   ],
   "source": [
    "n_bins = 20\n",
    "fig2, axs2 = plt.subplots(1, 2, sharey=True, tight_layout=True)\n",
    "axs2[0].hist(hint_uniform_samples, bins=n_bins);\n",
    "axs2[1].hist(hint_normal_samples, bins=n_bins);"
   ]
  },
  {
   "cell_type": "markdown",
   "id": "1ae1bc98-0999-4378-8cbb-178131546811",
   "metadata": {},
   "source": [
    "### Categorical Hyperparameters\n",
    "By default those are sampled uniformly, but another distribution can be used."
   ]
  },
  {
   "cell_type": "code",
   "execution_count": 7,
   "id": "afce3777-ebdd-4984-a3fc-dfaa21a61184",
   "metadata": {},
   "outputs": [
    {
     "name": "stdout",
     "output_type": "stream",
     "text": [
      "Counter({'val': 260, 1.0: 259, 2: 241, 'hello': 240})\n",
      "Counter({'val': 452, 1.0: 226, 'hello': 211, 2: 111})\n"
     ]
    }
   ],
   "source": [
    "hcat = ccs.CategoricalHyperparameter(name = 'hcat', values = [\"hello\", \"val\", 1.0, 2])\n",
    "hcat_uniform_samples = hcat.samples(1000)\n",
    "print(Counter(hcat_uniform_samples))\n",
    "# Areas are normalized internally, so unormalized values can be used\n",
    "roulette_distrib = ccs.RouletteDistribution(areas = [1.0, 2.0, 1.0, 0.5])\n",
    "hcat_roulette_samples = hcat.samples(1000, distribution = roulette_distrib)\n",
    "print(Counter(hcat_roulette_samples))"
   ]
  },
  {
   "cell_type": "markdown",
   "id": "e0d2811f-0e50-4190-b994-3852afd29342",
   "metadata": {},
   "source": [
    "### Other hyperparameters\n",
    "#### Ordinal Hyperparameters\n",
    "same as Categorical but induces a total ordering, so elements can be compared:"
   ]
  },
  {
   "cell_type": "code",
   "execution_count": 8,
   "id": "d67126e1-11b2-4167-abd3-f5a2bf1948ef",
   "metadata": {},
   "outputs": [
    {
     "name": "stdout",
     "output_type": "stream",
     "text": [
      "Counter({1.0: 271, 'hello': 250, 'val': 242, 2: 237})\n",
      "1\n",
      "-1\n"
     ]
    }
   ],
   "source": [
    "hord = ccs.OrdinalHyperparameter(name = 'hord', values = [\"hello\", \"val\", 1.0, 2])\n",
    "hcat_uniform_samples = hcat.samples(1000)\n",
    "print(Counter(hcat_uniform_samples))\n",
    "print(hord.compare(1.0, \"val\"))\n",
    "print(hord.compare(\"val\", 1.0))"
   ]
  },
  {
   "cell_type": "markdown",
   "id": "1df6e5b6-b65a-473b-b653-d1e28e632d16",
   "metadata": {},
   "source": [
    "#### Discrete Hyperparameters\n",
    "This is an hybrid between an ordianl and a numerical numerical hyperparameter with ordered and definite values, but contrary to an ordinal, values can be compared directly."
   ]
  },
  {
   "cell_type": "code",
   "execution_count": 9,
   "id": "c45ab4de-d39b-4582-b816-0b6183d52b5f",
   "metadata": {},
   "outputs": [
    {
     "name": "stdout",
     "output_type": "stream",
     "text": [
      "Counter({3: 222, 7: 202, 2: 202, 5.0: 187, 11.0: 187})\n",
      "Counter({3: 439, 2: 218, 5.0: 204, 7: 98, 11.0: 41})\n"
     ]
    }
   ],
   "source": [
    "hdis = ccs.DiscreteHyperparameter(name = 'hdis', values = [2, 3, 5.0, 7, 11.0])\n",
    "hdis_uniform_samples = hdis.samples(1000)\n",
    "print(Counter(hdis_uniform_samples))\n",
    "# Areas are normalized internally, so unormalized values can be used\n",
    "roulette_distrib2 = ccs.RouletteDistribution(areas = [1.0, 2.0, 1.0, 0.5, 0.2])\n",
    "hdis_roulette_samples = hdis.samples(1000, distribution = roulette_distrib2)\n",
    "print(Counter(hdis_roulette_samples))"
   ]
  },
  {
   "cell_type": "markdown",
   "id": "e2732380-60de-4140-ac02-6162b40af05c",
   "metadata": {},
   "source": [
    "## Configuration Space\n",
    "A configuration space is an abstraction gathering several hyperparameters together so they can be sampled\n",
    "### Definition\n",
    "As usual the name is optional."
   ]
  },
  {
   "cell_type": "code",
   "execution_count": 10,
   "id": "3101bec3-b80d-4af0-b71f-4aba734422b6",
   "metadata": {},
   "outputs": [],
   "source": [
    "cs = ccs.ConfigurationSpace(name = \"cs\")"
   ]
  },
  {
   "cell_type": "markdown",
   "id": "b442bd32-bb3c-4213-b278-508c173215f1",
   "metadata": {},
   "source": [
    "### Population\n",
    "Hyperparameters can be added individually or grouped"
   ]
  },
  {
   "cell_type": "code",
   "execution_count": 11,
   "id": "0036372e-2995-4f49-8cda-2258ed64d823",
   "metadata": {},
   "outputs": [],
   "source": [
    "cs.add_hyperparameter(hflt)\n",
    "cs.add_hyperparameters([hint, hcat, hord, hdis])"
   ]
  },
  {
   "cell_type": "markdown",
   "id": "6d48bc1b-3468-4615-9158-bc3bef7b5da3",
   "metadata": {},
   "source": [
    "### Sampling\n",
    "By default sampling is done using hyperparameters default (uniform) distributions:"
   ]
  },
  {
   "cell_type": "code",
   "execution_count": 12,
   "id": "01327440-fe45-466a-9966-47892ead7738",
   "metadata": {},
   "outputs": [
    {
     "name": "stdout",
     "output_type": "stream",
     "text": [
      "{'hflt': 1.499096121173352, 'hint': -4, 'hcat': 'val', 'hord': 2, 'hdis': 3}\n"
     ]
    }
   ],
   "source": [
    "samples = cs.samples(1000)\n",
    "print(samples[0].asdict())"
   ]
  },
  {
   "cell_type": "code",
   "execution_count": 13,
   "id": "57e4c415-a25d-4767-95f8-dbf830ffce23",
   "metadata": {},
   "outputs": [
    {
     "name": "stdout",
     "output_type": "stream",
     "text": [
      "Counter({'hello': 259, 1.0: 250, 2: 247, 'val': 244})\n",
      "Counter({2: 266, 'hello': 260, 1.0: 250, 'val': 224})\n",
      "Counter({2: 204, 11.0: 203, 5.0: 199, 3: 197, 7: 197})\n"
     ]
    },
    {
     "data": {
      "image/png": "[encoded data removed]",
      "text/plain": [
       "<Figure size 432x288 with 2 Axes>"
      ]
     },
     "metadata": {
      "needs_background": "light"
     },
     "output_type": "display_data"
    }
   ],
   "source": [
    "n_bins = 20\n",
    "fig3, axs3 = plt.subplots(1, 2, sharey=True, tight_layout=True)\n",
    "axs3[0].hist([x.value('hflt') for x in samples], bins=n_bins);\n",
    "axs3[1].hist([x.value('hint') for x in samples], bins=n_bins);\n",
    "print(Counter([x.value('hcat') for x in samples]))\n",
    "print(Counter([x.value('hord') for x in samples]))\n",
    "print(Counter([x.value('hdis') for x in samples]))"
   ]
  },
  {
   "cell_type": "markdown",
   "id": "7bd12377-453c-4005-9526-9f7ac44021c2",
   "metadata": {},
   "source": [
    "Distributions can be replaced, and as multidimentional distributions (see `MultivariateDistribution`) are supported, the parameters they refer to must be a list:"
   ]
  },
  {
   "cell_type": "code",
   "execution_count": 14,
   "id": "d4967f41-f71a-4649-9679-0425c92c5fb8",
   "metadata": {},
   "outputs": [
    {
     "name": "stdout",
     "output_type": "stream",
     "text": [
      "Counter({'val': 254, 2: 252, 1.0: 247, 'hello': 247})\n",
      "Counter({'val': 451, 1.0: 225, 'hello': 205, 2: 119})\n",
      "Counter({3: 419, 5.0: 224, 2: 214, 7: 91, 11.0: 52})\n"
     ]
    },
    {
     "data": {
      "image/png": "[encoded data removed]",
      "text/plain": [
       "<Figure size 432x288 with 2 Axes>"
      ]
     },
     "metadata": {
      "needs_background": "light"
     },
     "output_type": "display_data"
    }
   ],
   "source": [
    "cs.set_distribution(fnrm_distrib, [hflt])\n",
    "cs.set_distribution(inrm_distrib, [hint])\n",
    "cs.set_distribution(roulette_distrib, [hord])\n",
    "cs.set_distribution(roulette_distrib2, [hdis])\n",
    "samples2 = cs.samples(1000)\n",
    "n_bins = 20\n",
    "fig4, axs4 = plt.subplots(1, 2, sharey=True, tight_layout=True)\n",
    "axs4[0].hist([x.value('hflt') for x in samples2], bins=n_bins);\n",
    "axs4[1].hist([x.value('hint') for x in samples2], bins=n_bins);\n",
    "print(Counter([x.value('hcat') for x in samples2]))\n",
    "print(Counter([x.value('hord') for x in samples2]))\n",
    "print(Counter([x.value('hdis') for x in samples2]))"
   ]
  },
  {
   "cell_type": "code",
   "execution_count": null,
   "id": "10505766-be82-413d-b93f-cf61ec3fcbda",
   "metadata": {},
   "outputs": [],
   "source": []
  }
 ],
 "metadata": {
  "kernelspec": {
   "display_name": "Python 3 (ipykernel)",
   "language": "python",
   "name": "python3"
  },
  "language_info": {
   "codemirror_mode": {
    "name": "ipython",
    "version": 3
   },
   "file_extension": ".py",
   "mimetype": "text/x-python",
   "name": "python",
   "nbconvert_exporter": "python",
   "pygments_lexer": "ipython3",
   "version": "3.9.5"
  }
 },
 "nbformat": 4,
 "nbformat_minor": 5
}
